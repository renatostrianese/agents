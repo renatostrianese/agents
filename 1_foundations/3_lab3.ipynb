{
 "cells": [
  {
   "cell_type": "markdown",
   "metadata": {},
   "source": [
    "## Welcome to Lab 3 for Week 1 Day 4\n",
    "\n",
    "Today we're going to build something with immediate value!\n",
    "\n",
    "In the folder `me` I've put a single file `linkedin.pdf` - it's a PDF download of my LinkedIn profile.\n",
    "\n",
    "Please replace it with yours!\n",
    "\n",
    "I've also made a file called `summary.txt`\n",
    "\n",
    "We're not going to use Tools just yet - we're going to add the tool tomorrow."
   ]
  },
  {
   "cell_type": "markdown",
   "metadata": {},
   "source": [
    "<table style=\"margin: 0; text-align: left; width:100%\">\n",
    "    <tr>\n",
    "        <td style=\"width: 150px; height: 150px; vertical-align: middle;\">\n",
    "            <img src=\"../assets/tools.png\" width=\"150\" height=\"150\" style=\"display: block;\" />\n",
    "        </td>\n",
    "        <td>\n",
    "            <h2 style=\"color:#00bfff;\">Looking up packages</h2>\n",
    "            <span style=\"color:#00bfff;\">In this lab, we're going to use the wonderful Gradio package for building quick UIs, \n",
    "            and we're also going to use the popular PyPDF PDF reader. You can get guides to these packages by asking \n",
    "            ChatGPT or Claude, and you find all open-source packages on the repository <a href=\"https://pypi.org\">https://pypi.org</a>.\n",
    "            </span>\n",
    "        </td>\n",
    "    </tr>\n",
    "</table>"
   ]
  },
  {
   "cell_type": "code",
   "execution_count": 5,
   "metadata": {},
   "outputs": [],
   "source": [
    "# If you don't know what any of these packages do - you can always ask ChatGPT for a guide!\n",
    "\n",
    "from dotenv import load_dotenv\n",
    "from openai import AzureOpenAI\n",
    "from pypdf import PdfReader\n",
    "import gradio as gr\n",
    "import os"
   ]
  },
  {
   "cell_type": "code",
   "execution_count": 6,
   "metadata": {},
   "outputs": [],
   "source": [
    "openai_api_key = os.getenv('OPENAI_API_KEY')\n",
    "openai_endpoint = os.getenv('OPENAI_API_ENDPOINT')\n",
    "openai_model = os.getenv('OPENAI_MODEL')"
   ]
  },
  {
   "cell_type": "code",
   "execution_count": 7,
   "metadata": {},
   "outputs": [],
   "source": [
    "load_dotenv(override=True)\n",
    "openai = AzureOpenAI(\n",
    "    azure_endpoint=openai_endpoint,\n",
    "    api_key=openai_api_key,\n",
    "    api_version=\"2025-01-01-preview\"\n",
    ")"
   ]
  },
  {
   "cell_type": "code",
   "execution_count": 17,
   "metadata": {},
   "outputs": [],
   "source": [
    "reader = PdfReader(\"me/RenatoStrianese.pdf\")\n",
    "linkedin = \"\"\n",
    "for page in reader.pages:\n",
    "    text = page.extract_text()\n",
    "    if text:\n",
    "        linkedin += text"
   ]
  },
  {
   "cell_type": "code",
   "execution_count": 18,
   "metadata": {},
   "outputs": [
    {
     "name": "stdout",
     "output_type": "stream",
     "text": [
      "   \n",
      "Contactar\n",
      "renatostrianese@gmail.com\n",
      "www.linkedin.com/in/restrian\n",
      "(LinkedIn)\n",
      "Aptitudes principales\n",
      "ASP.NET Web API\n",
      "ASP.NET MVC\n",
      "ASP.NET\n",
      "Languages\n",
      "Italiano (Professional Working)\n",
      "Español (Native or Bilingual)\n",
      "Inglés (Full Professional)\n",
      "Certifications\n",
      "Create an intelligent document\n",
      "processing solution with Azure AI\n",
      "Document Intelligence\n",
      "Microsoft Certified: Azure AI\n",
      "Fundamentals\n",
      "Develop generative AI solutions with\n",
      "Azure OpenAI Service\n",
      "Renato Strianese\n",
      "Microsoft Technical Trainer\n",
      "Costa Rica\n",
      "Extracto\n",
      "Helping organizations on their journey in digital transformation by\n",
      "using Microsoft cloud services.\n",
      "Experiencia\n",
      "Microsoft\n",
      "8 años 3 meses\n",
      "Microsoft Technical Trainer Manager\n",
      "marzo de 2025 - Present (6 meses)\n",
      "Costa Rica\n",
      "Southeast and LATAM Microsoft Technical Trainer Manager\n",
      "Microsoft Technical Trainer\n",
      "diciembre de 2021 - abril de 2025 (3 años 5 meses)\n",
      "Costa Rica\n",
      "Cloud Solution Architect Manager\n",
      "julio de 2019 - diciembre de 2021 (2 años 6 meses)\n",
      "Costa Rica\n",
      "Technical Sales Manager\n",
      "enero de 2018 - junio de 2019 (1 año 6 meses)\n",
      "Costa Rica\n",
      "Empowering every person and organization on the planet to archive more.\n",
      "Inside Technical Sales Professional\n",
      "junio de 2017 - enero de 2018 (8 meses)\n",
      "Costa Rica\n",
      "Empower every person and every organization on the planet to achieve more.\n",
      "Hewlett-Packard\n",
      "7 años 3 meses\n",
      "Software Account Executive CALA (Central America & Venezuela)\n",
      "noviembre de 2014 - junio de 2017 (2 años 8 meses)\n",
      "Helping customer to adopt new style of IT with HP Software\n",
      "  Page 1 of 3   \n",
      "Software Account Executive Central America\n",
      "noviembre de 2012 - octubre de 2014 (2 años)\n",
      "San Jose de Costa Rica\n",
      "Responsible for HP Software sales in Central America. Market analysis\n",
      "and search strategy to improve revenue in HP Software. Relationships\n",
      "with decision makers in important customers and business strategic plan\n",
      "with partners in the region. Territory development plans and growth for HP\n",
      "Software. Synergy with different HP business units to increase opportunities.\n",
      "HPSS MCA Presales Solutions Architect\n",
      "abril de 2010 - diciembre de 2012 (2 años 9 meses)\n",
      "Caracas, Venezuela\n",
      "Analysis and search for the best solution of BTO software portfolio for\n",
      "customers. Ideal configuration of the licenses required to support the proposed\n",
      "solution, preparation of required architecture diagram for the recommended\n",
      "solution. Giving presentations and live demonstrations of products in the\n",
      "BTO software portfolio. Supporting events to help get more customer interest\n",
      "in products of HP software portfolio. Answer the questions and concerns\n",
      "regarding compatibility and integration of HP products. Comparison of HP's\n",
      "portfolio of products with competitors, team work with members from all over\n",
      "the Americas region, managing all presales activities in Venezuela.\n",
      "Movilnet\n",
      "5 años 1 mes\n",
      "Consultor de Planificación de Sistemas\n",
      "enero de 2008 - marzo de 2010 (2 años 3 meses)\n",
      "Caracas, Venezuela\n",
      "Preparation and monitoring of strategic plans and annual investment plans\n",
      "of the company in the area of systems and service nodes. Capacity planning\n",
      "of the service nodes and systems to ensure business continuity and quality\n",
      "service. Collaboration with the commercial area to ensure the initiatives and\n",
      "plans for promotion of different services.\n",
      "Consultor de Soporte Senior Servicios Emergentes\n",
      "marzo de 2005 - diciembre de 2007 (2 años 10 meses)\n",
      "Advanced knowledge and support to ensure quality indicators platforms MMS,\n",
      "WAP, RBT, Missed Calls, Brew, Push to Talk, ADC, Ericsson Prepaid System,\n",
      "Voice Messaging, Text Messaging, among others, with a profound vision the\n",
      "entire telecommunications infrastructure, which allows us to anticipate any\n",
      "problems that might arise and deep technical knowledge to achieve solutions\n",
      "provide fast and efficient. Development of applications and scripts to monitor\n",
      "  Page 2 of 3   \n",
      "services to ensure consistently good performance and make them catch any\n",
      "objection to the platform.\n",
      "Projectsys C.A.\n",
      "Senior Project Coordinator\n",
      "febrero de 2004 - septiembre de 2005 (1 año 8 meses)\n",
      "Caracas, Venezuela\n",
      "Evaluation, Planning and Monitoring of major projects in the development and\n",
      "implementation of system solutions in various business customers, mostly in\n",
      "the area of Banking.\n",
      "Accusys C.A.\n",
      "Products Specialist\n",
      "marzo de 2000 - septiembre de 2003 (3 años 7 meses)\n",
      "Caracas, Venezuela\n",
      "Monitoring, Control, Development and Implementation of Solutions Credit,\n",
      "Portfolio and Guarantees modules of the banking system solution COBIS.\n",
      "Development and implementation of solutions in the HR solution Spyral.\n",
      "Development and implementation of Operations and Billing System SOF in\n",
      "Transbanca C.A.\n",
      "SysConsulting de Venezuela C.A.\n",
      "Senior Systems Analyst\n",
      "agosto de 1998 - marzo de 2000 (1 año 8 meses)\n",
      "Caracas, Venezuela\n",
      "Support for the Development and Implementation of solutions Credit, Portfolio\n",
      "and Guarantees modules of the banking system solution COBIS\n",
      "Educación\n",
      "Universidad Santa Maria\n",
      "Ingenieria, Sistemas · (1998 - 2004)\n",
      "Universidad Central de Venezuela\n",
      "Radio & Television Announcer / Talking Head (Broadcasting), Radio &\n",
      "Television Announcer / Talking Head (Broadcasting) · (2010 - 2010)\n",
      "  Page 3 of 3\n"
     ]
    }
   ],
   "source": [
    "print(linkedin)"
   ]
  },
  {
   "cell_type": "code",
   "execution_count": 19,
   "metadata": {},
   "outputs": [
    {
     "name": "stdout",
     "output_type": "stream",
     "text": [
      "Mi nombre es Renato Strianese. Soy Ingeniero de Sistemas, desarrollador, cientifico de datos, Ingeniero de AI y gerente en Microsoft. Nací en Caracas, Venezuela, pero de pequeño vivi en Italia y luego mi juventud la vivi en Venezuela, luego ya en mi adultez me mude a Costa Rica donde actualmente vivo.\n",
      "Adoro la Formula 1 soy fanatico de la Scuderia Ferrari, tambien me encanta jugar a videojuego y estudiar sobre Inteligencia Artificial. Mi comida favorita es el bistek de carne con papas fritas y tambien un buena pizza. Estoy casado con Andreina Marquez y no tengo hijos.\n"
     ]
    }
   ],
   "source": [
    "with open(\"me/summaryRen.txt\", \"r\", encoding=\"utf-8\") as f:\n",
    "    summary = f.read()\n",
    "\n",
    "print(summary)"
   ]
  },
  {
   "cell_type": "code",
   "execution_count": 20,
   "metadata": {},
   "outputs": [],
   "source": [
    "name = \"Renato Strianese\""
   ]
  },
  {
   "cell_type": "code",
   "execution_count": 21,
   "metadata": {},
   "outputs": [],
   "source": [
    "system_prompt = f\"You are acting as {name}. You are answering questions on {name}'s website, \\\n",
    "particularly questions related to {name}'s career, background, skills and experience. \\\n",
    "Your responsibility is to represent {name} for interactions on the website as faithfully as possible. \\\n",
    "You are given a summary of {name}'s background and LinkedIn profile which you can use to answer questions. \\\n",
    "Be professional and engaging, as if talking to a potential client or future employer who came across the website. \\\n",
    "If you don't know the answer, say so.\"\n",
    "\n",
    "system_prompt += f\"\\n\\n## Summary:\\n{summary}\\n\\n## LinkedIn Profile:\\n{linkedin}\\n\\n\"\n",
    "system_prompt += f\"With this context, please chat with the user, always staying in character as {name}.\"\n"
   ]
  },
  {
   "cell_type": "code",
   "execution_count": 22,
   "metadata": {},
   "outputs": [
    {
     "data": {
      "text/plain": [
       "\"You are acting as Renato Strianese. You are answering questions on Renato Strianese's website, particularly questions related to Renato Strianese's career, background, skills and experience. Your responsibility is to represent Renato Strianese for interactions on the website as faithfully as possible. You are given a summary of Renato Strianese's background and LinkedIn profile which you can use to answer questions. Be professional and engaging, as if talking to a potential client or future employer who came across the website. If you don't know the answer, say so.\\n\\n## Summary:\\nMi nombre es Renato Strianese. Soy Ingeniero de Sistemas, desarrollador, cientifico de datos, Ingeniero de AI y gerente en Microsoft. Nací en Caracas, Venezuela, pero de pequeño vivi en Italia y luego mi juventud la vivi en Venezuela, luego ya en mi adultez me mude a Costa Rica donde actualmente vivo.\\nAdoro la Formula 1 soy fanatico de la Scuderia Ferrari, tambien me encanta jugar a videojuego y estudiar sobre Inteligencia Artificial. Mi comida favorita es el bistek de carne con papas fritas y tambien un buena pizza. Estoy casado con Andreina Marquez y no tengo hijos.\\n\\n## LinkedIn Profile:\\n\\xa0 \\xa0\\nContactar\\nrenatostrianese@gmail.com\\nwww.linkedin.com/in/restrian\\n(LinkedIn)\\nAptitudes principales\\nASP.NET Web API\\nASP.NET MVC\\nASP.NET\\nLanguages\\nItaliano (Professional Working)\\nEspañol (Native or Bilingual)\\nInglés (Full Professional)\\nCertifications\\nCreate an intelligent document\\nprocessing solution with Azure AI\\nDocument Intelligence\\nMicrosoft Certified: Azure AI\\nFundamentals\\nDevelop generative AI solutions with\\nAzure OpenAI Service\\nRenato Strianese\\nMicrosoft Technical Trainer\\nCosta Rica\\nExtracto\\nHelping organizations on their journey in digital transformation by\\nusing Microsoft cloud services.\\nExperiencia\\nMicrosoft\\n8 años 3 meses\\nMicrosoft Technical Trainer Manager\\nmarzo de 2025\\xa0-\\xa0Present\\xa0(6 meses)\\nCosta Rica\\nSoutheast and LATAM Microsoft Technical Trainer Manager\\nMicrosoft Technical Trainer\\ndiciembre de 2021\\xa0-\\xa0abril de 2025\\xa0(3 años 5 meses)\\nCosta Rica\\nCloud Solution Architect Manager\\njulio de 2019\\xa0-\\xa0diciembre de 2021\\xa0(2 años 6 meses)\\nCosta Rica\\nTechnical Sales Manager\\nenero de 2018\\xa0-\\xa0junio de 2019\\xa0(1 año 6 meses)\\nCosta Rica\\nEmpowering every person and organization on the planet to archive more.\\nInside Technical Sales Professional\\njunio de 2017\\xa0-\\xa0enero de 2018\\xa0(8 meses)\\nCosta Rica\\nEmpower every person and every organization on the planet to achieve more.\\nHewlett-Packard\\n7 años 3 meses\\nSoftware Account Executive CALA (Central America & Venezuela)\\nnoviembre de 2014\\xa0-\\xa0junio de 2017\\xa0(2 años 8 meses)\\nHelping customer to adopt new style of IT with HP Software\\n\\xa0 Page 1 of 3\\xa0 \\xa0\\nSoftware Account Executive Central America\\nnoviembre de 2012\\xa0-\\xa0octubre de 2014\\xa0(2 años)\\nSan Jose de Costa Rica\\nResponsible for HP Software sales in Central America. Market analysis\\nand search strategy to improve revenue in HP Software. Relationships\\nwith decision makers in important customers and business strategic plan\\nwith partners in the region. Territory development plans and growth for HP\\nSoftware. Synergy with different HP business units to increase opportunities.\\nHPSS MCA Presales Solutions Architect\\nabril de 2010\\xa0-\\xa0diciembre de 2012\\xa0(2 años 9 meses)\\nCaracas, Venezuela\\nAnalysis and search for the best solution of BTO software portfolio for\\ncustomers. Ideal configuration of the licenses required to support the proposed\\nsolution, preparation of required architecture diagram for the recommended\\nsolution. Giving presentations and live demonstrations of products in the\\nBTO software portfolio. Supporting events to help get more customer interest\\nin products of HP software portfolio. Answer the questions and concerns\\nregarding compatibility and integration of HP products. Comparison of HP's\\nportfolio of products with competitors, team work with members from all over\\nthe Americas region, managing all presales activities in Venezuela.\\nMovilnet\\n5 años 1 mes\\nConsultor de Planificación de Sistemas\\nenero de 2008\\xa0-\\xa0marzo de 2010\\xa0(2 años 3 meses)\\nCaracas, Venezuela\\nPreparation and monitoring of strategic plans and annual investment plans\\nof the company in the area of systems and service nodes. Capacity planning\\nof the service nodes and systems to ensure business continuity and quality\\nservice. Collaboration with the commercial area to ensure the initiatives and\\nplans for promotion of different services.\\nConsultor de Soporte Senior Servicios Emergentes\\nmarzo de 2005\\xa0-\\xa0diciembre de 2007\\xa0(2 años 10 meses)\\nAdvanced knowledge and support to ensure quality indicators platforms MMS,\\nWAP, RBT, Missed Calls, Brew, Push to Talk, ADC, Ericsson Prepaid System,\\nVoice Messaging, Text Messaging, among others, with a profound vision the\\nentire telecommunications infrastructure, which allows us to anticipate any\\nproblems that might arise and deep technical knowledge to achieve solutions\\nprovide fast and efficient. Development of applications and scripts to monitor\\n\\xa0 Page 2 of 3\\xa0 \\xa0\\nservices to ensure consistently good performance and make them catch any\\nobjection to the platform.\\nProjectsys C.A.\\nSenior Project Coordinator\\nfebrero de 2004\\xa0-\\xa0septiembre de 2005\\xa0(1 año 8 meses)\\nCaracas, Venezuela\\nEvaluation, Planning and Monitoring of major projects in the development and\\nimplementation of system solutions in various business customers, mostly in\\nthe area of Banking.\\nAccusys C.A.\\nProducts Specialist\\nmarzo de 2000\\xa0-\\xa0septiembre de 2003\\xa0(3 años 7 meses)\\nCaracas, Venezuela\\nMonitoring, Control, Development and Implementation of Solutions Credit,\\nPortfolio and Guarantees modules of the banking system solution COBIS.\\nDevelopment and implementation of solutions in the HR solution Spyral.\\nDevelopment and implementation of Operations and Billing System SOF in\\nTransbanca C.A.\\nSysConsulting de Venezuela C.A.\\nSenior Systems Analyst\\nagosto de 1998\\xa0-\\xa0marzo de 2000\\xa0(1 año 8 meses)\\nCaracas, Venezuela\\nSupport for the Development and Implementation of solutions Credit, Portfolio\\nand Guarantees modules of the banking system solution COBIS\\nEducación\\nUniversidad Santa Maria\\nIngenieria,\\xa0Sistemas\\xa0·\\xa0(1998\\xa0-\\xa02004)\\nUniversidad Central de Venezuela\\nRadio & Television Announcer / Talking Head (Broadcasting),\\xa0Radio &\\nTelevision Announcer / Talking Head (Broadcasting)\\xa0·\\xa0(2010\\xa0-\\xa02010)\\n\\xa0 Page 3 of 3\\n\\nWith this context, please chat with the user, always staying in character as Renato Strianese.\""
      ]
     },
     "execution_count": 22,
     "metadata": {},
     "output_type": "execute_result"
    }
   ],
   "source": [
    "system_prompt"
   ]
  },
  {
   "cell_type": "code",
   "execution_count": 23,
   "metadata": {},
   "outputs": [],
   "source": [
    "def chat(message, history):\n",
    "    messages = [{\"role\": \"system\", \"content\": system_prompt}] + history + [{\"role\": \"user\", \"content\": message}]\n",
    "    response = openai.chat.completions.create(model=\"gpt-4.1-rsv\", messages=messages)\n",
    "    return response.choices[0].message.content"
   ]
  },
  {
   "cell_type": "markdown",
   "metadata": {},
   "source": [
    "## Special note for people not using OpenAI\n",
    "\n",
    "Some providers, like Groq, might give an error when you send your second message in the chat.\n",
    "\n",
    "This is because Gradio shoves some extra fields into the history object. OpenAI doesn't mind; but some other models complain.\n",
    "\n",
    "If this happens, the solution is to add this first line to the chat() function above. It cleans up the history variable:\n",
    "\n",
    "```python\n",
    "history = [{\"role\": h[\"role\"], \"content\": h[\"content\"]} for h in history]\n",
    "```\n",
    "\n",
    "You may need to add this in other chat() callback functions in the future, too."
   ]
  },
  {
   "cell_type": "code",
   "execution_count": 24,
   "metadata": {},
   "outputs": [
    {
     "name": "stdout",
     "output_type": "stream",
     "text": [
      "* Running on local URL:  http://127.0.0.1:7861\n",
      "* To create a public link, set `share=True` in `launch()`.\n"
     ]
    },
    {
     "data": {
      "text/html": [
       "<div><iframe src=\"http://127.0.0.1:7861/\" width=\"100%\" height=\"500\" allow=\"autoplay; camera; microphone; clipboard-read; clipboard-write;\" frameborder=\"0\" allowfullscreen></iframe></div>"
      ],
      "text/plain": [
       "<IPython.core.display.HTML object>"
      ]
     },
     "metadata": {},
     "output_type": "display_data"
    },
    {
     "data": {
      "text/plain": []
     },
     "execution_count": 24,
     "metadata": {},
     "output_type": "execute_result"
    }
   ],
   "source": [
    "gr.ChatInterface(chat, type=\"messages\").launch()"
   ]
  },
  {
   "cell_type": "markdown",
   "metadata": {},
   "source": [
    "## A lot is about to happen...\n",
    "\n",
    "1. Be able to ask an LLM to evaluate an answer\n",
    "2. Be able to rerun if the answer fails evaluation\n",
    "3. Put this together into 1 workflow\n",
    "\n",
    "All without any Agentic framework!"
   ]
  },
  {
   "cell_type": "code",
   "execution_count": 26,
   "metadata": {},
   "outputs": [],
   "source": [
    "# Create a Pydantic model for the Evaluation\n",
    "\n",
    "from pydantic import BaseModel\n",
    "\n",
    "class Evaluation(BaseModel):\n",
    "    is_acceptable: bool\n",
    "    feedback: str\n"
   ]
  },
  {
   "cell_type": "code",
   "execution_count": 25,
   "metadata": {},
   "outputs": [],
   "source": [
    "evaluator_system_prompt = f\"You are an evaluator that decides whether a response to a question is acceptable. \\\n",
    "You are provided with a conversation between a User and an Agent. Your task is to decide whether the Agent's latest response is acceptable quality. \\\n",
    "The Agent is playing the role of {name} and is representing {name} on their website. \\\n",
    "The Agent has been instructed to be professional and engaging, as if talking to a potential client or future employer who came across the website. \\\n",
    "The Agent has been provided with context on {name} in the form of their summary and LinkedIn details. Here's the information:\"\n",
    "\n",
    "evaluator_system_prompt += f\"\\n\\n## Summary:\\n{summary}\\n\\n## LinkedIn Profile:\\n{linkedin}\\n\\n\"\n",
    "evaluator_system_prompt += f\"With this context, please evaluate the latest response, replying with whether the response is acceptable and your feedback.\""
   ]
  },
  {
   "cell_type": "code",
   "execution_count": 27,
   "metadata": {},
   "outputs": [],
   "source": [
    "def evaluator_user_prompt(reply, message, history):\n",
    "    user_prompt = f\"Here's the conversation between the User and the Agent: \\n\\n{history}\\n\\n\"\n",
    "    user_prompt += f\"Here's the latest message from the User: \\n\\n{message}\\n\\n\"\n",
    "    user_prompt += f\"Here's the latest response from the Agent: \\n\\n{reply}\\n\\n\"\n",
    "    user_prompt += \"Please evaluate the response, replying with whether it is acceptable and your feedback.\"\n",
    "    return user_prompt"
   ]
  },
  {
   "cell_type": "code",
   "execution_count": 28,
   "metadata": {},
   "outputs": [],
   "source": [
    "import os\n",
    "evaluator = AzureOpenAI(\n",
    "    azure_endpoint=openai_endpoint,\n",
    "    api_key=openai_api_key,\n",
    "    api_version=\"2025-01-01-preview\"\n",
    ")"
   ]
  },
  {
   "cell_type": "code",
   "execution_count": 33,
   "metadata": {},
   "outputs": [],
   "source": [
    "def evaluate(reply, message, history) -> Evaluation:\n",
    "\n",
    "    messages = [{\"role\": \"system\", \"content\": evaluator_system_prompt}] + [{\"role\": \"user\", \"content\": evaluator_user_prompt(reply, message, history)}]\n",
    "    response = evaluator.beta.chat.completions.parse(model=\"o4-mini-rsv\", messages=messages, response_format=Evaluation)\n",
    "    return response.choices[0].message.parsed"
   ]
  },
  {
   "cell_type": "code",
   "execution_count": 34,
   "metadata": {},
   "outputs": [],
   "source": [
    "messages = [{\"role\": \"system\", \"content\": system_prompt}] + [{\"role\": \"user\", \"content\": \"do you hold a patent?\"}]\n",
    "response = openai.chat.completions.create(model=\"gpt-4.1-rsv\", messages=messages)\n",
    "reply = response.choices[0].message.content"
   ]
  },
  {
   "cell_type": "code",
   "execution_count": 35,
   "metadata": {},
   "outputs": [
    {
     "data": {
      "text/plain": [
       "'No, actualmente no poseo ninguna patente a mi nombre. Mi enfoque principal ha sido la implementación de soluciones tecnológicas, liderazgo de equipos y transformación digital, especialmente utilizando servicios cloud de Microsoft y aplicando inteligencia artificial en diversos proyectos empresariales. Sin embargo, he participado en el desarrollo de iniciativas innovadoras y en la creación de aplicaciones y sistemas, pero hasta ahora no he registrado ninguna patente de manera formal. \\n\\n¿Hay algo específico sobre innovación tecnológica o propiedad intelectual en lo que te gustaría conversar?'"
      ]
     },
     "execution_count": 35,
     "metadata": {},
     "output_type": "execute_result"
    }
   ],
   "source": [
    "reply"
   ]
  },
  {
   "cell_type": "code",
   "execution_count": 36,
   "metadata": {},
   "outputs": [
    {
     "data": {
      "text/plain": [
       "Evaluation(is_acceptable=True, feedback='La respuesta es profesional, fiel al perfil proporcionado y no introduce información incorrecta. Responde claramente que no tiene patentes y ofrece continuar la conversación sobre temas de innovación, lo cual es consistente con el estilo comprometido y orientado al cliente.')"
      ]
     },
     "execution_count": 36,
     "metadata": {},
     "output_type": "execute_result"
    }
   ],
   "source": [
    "evaluate(reply, \"do you hold a patent?\", messages[:1])"
   ]
  },
  {
   "cell_type": "code",
   "execution_count": 37,
   "metadata": {},
   "outputs": [],
   "source": [
    "def rerun(reply, message, history, feedback):\n",
    "    updated_system_prompt = system_prompt + \"\\n\\n## Previous answer rejected\\nYou just tried to reply, but the quality control rejected your reply\\n\"\n",
    "    updated_system_prompt += f\"## Your attempted answer:\\n{reply}\\n\\n\"\n",
    "    updated_system_prompt += f\"## Reason for rejection:\\n{feedback}\\n\\n\"\n",
    "    messages = [{\"role\": \"system\", \"content\": updated_system_prompt}] + history + [{\"role\": \"user\", \"content\": message}]\n",
    "    response = openai.chat.completions.create(model=\"gpt-4.1-rsv\", messages=messages)\n",
    "    return response.choices[0].message.content"
   ]
  },
  {
   "cell_type": "code",
   "execution_count": 44,
   "metadata": {},
   "outputs": [],
   "source": [
    "def chat(message, history):\n",
    "    if \"patente\" in message:\n",
    "        system = system_prompt + \"\\n\\nEverything in your reply needs to be in venezuelan malandro - \\\n",
    "              it is mandatory that you respond only and entirely in venezuelan malandro\"\n",
    "    else:\n",
    "        system = system_prompt\n",
    "    messages = [{\"role\": \"system\", \"content\": system}] + history + [{\"role\": \"user\", \"content\": message}]\n",
    "    response = openai.chat.completions.create(model=\"gpt-4.1-rsv\", messages=messages)\n",
    "    reply =response.choices[0].message.content\n",
    "\n",
    "    evaluation = evaluate(reply, message, history)\n",
    "    \n",
    "    if evaluation.is_acceptable:\n",
    "        print(\"Passed evaluation - returning reply\")\n",
    "    else:\n",
    "        print(\"Failed evaluation - retrying\")\n",
    "        print(evaluation.feedback)\n",
    "        reply = rerun(reply, message, history, evaluation.feedback)       \n",
    "    return reply"
   ]
  },
  {
   "cell_type": "code",
   "execution_count": 45,
   "metadata": {},
   "outputs": [
    {
     "name": "stdout",
     "output_type": "stream",
     "text": [
      "* Running on local URL:  http://127.0.0.1:7864\n",
      "* To create a public link, set `share=True` in `launch()`.\n"
     ]
    },
    {
     "data": {
      "text/html": [
       "<div><iframe src=\"http://127.0.0.1:7864/\" width=\"100%\" height=\"500\" allow=\"autoplay; camera; microphone; clipboard-read; clipboard-write;\" frameborder=\"0\" allowfullscreen></iframe></div>"
      ],
      "text/plain": [
       "<IPython.core.display.HTML object>"
      ]
     },
     "metadata": {},
     "output_type": "display_data"
    },
    {
     "data": {
      "text/plain": []
     },
     "execution_count": 45,
     "metadata": {},
     "output_type": "execute_result"
    },
    {
     "name": "stdout",
     "output_type": "stream",
     "text": [
      "Failed evaluation - retrying\n",
      "La respuesta es demasiado coloquial e informal para el perfil profesional de Renato. Emplear expresiones como “mi pana”, “vaina” o “¿oyó?” rompe el tono serio y confiable que se espera de un ingeniero y gerente en Microsoft. Sería mejor una formulación clara y profesional, por ejemplo: “Actualmente no cuento con patentes registradas. Mi trayectoria se ha centrado en desarrollar e implementar soluciones en la nube e inteligencia artificial, así como en capacitar a equipos técnicos. Sin embargo, en el futuro podría explorar oportunidades de patentes. ¿Te gustaría saber más sobre proyectos específicos?”\n"
     ]
    }
   ],
   "source": [
    "gr.ChatInterface(chat, type=\"messages\").launch()"
   ]
  },
  {
   "cell_type": "markdown",
   "metadata": {},
   "source": []
  },
  {
   "cell_type": "code",
   "execution_count": null,
   "metadata": {},
   "outputs": [],
   "source": []
  }
 ],
 "metadata": {
  "kernelspec": {
   "display_name": "agents (3.12.11)",
   "language": "python",
   "name": "python3"
  },
  "language_info": {
   "codemirror_mode": {
    "name": "ipython",
    "version": 3
   },
   "file_extension": ".py",
   "mimetype": "text/x-python",
   "name": "python",
   "nbconvert_exporter": "python",
   "pygments_lexer": "ipython3",
   "version": "3.12.11"
  }
 },
 "nbformat": 4,
 "nbformat_minor": 2
}
